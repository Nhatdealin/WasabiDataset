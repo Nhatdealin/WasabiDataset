{
 "cells": [
  {
   "cell_type": "code",
   "execution_count": 1,
   "metadata": {},
   "outputs": [],
   "source": [
    "import pandas as pd\n",
    "import seaborn as sns\n",
    "import matplotlib.pyplot as plt\n",
    "import numpy as np\n",
    "import gensim\n",
    "from gensim.corpora import Dictionary\n",
    "import joblib\n",
    "import preprocessing\n",
    "\n",
    "DATA_PATH = './data/'"
   ]
  },
  {
   "cell_type": "code",
   "execution_count": 2,
   "metadata": {},
   "outputs": [],
   "source": [
    "def load_songs(filename, nrows=None):\n",
    "    return pd.read_csv(filename, sep='\\t', nrows=nrows)\n",
    "\n",
    "\n",
    "def load_artists(filename, nrows=None):\n",
    "    return pd.read_csv(filename, sep=',', nrows=nrows)\n",
    "\n",
    "\n",
    "def load_albums(filename, nrows=None):\n",
    "    return pd.read_csv(filename, sep='\\t', nrows=nrows)\n",
    "\n",
    "def random_key_from_dict(dictionary, seed=123):\n",
    "    keys_list = list(dictionary.keys())\n",
    "    np.random.seed(seed)\n",
    "    random_index = np.random.choice(len(keys_list))\n",
    "    return keys_list[random_index]"
   ]
  },
  {
   "cell_type": "code",
   "execution_count": 3,
   "metadata": {},
   "outputs": [
    {
     "data": {
      "text/plain": [
       "unk    621\n",
       "0.0    312\n",
       "1.0     67\n",
       "Name: explicit_content_lyrics_predicted, dtype: int64"
      ]
     },
     "execution_count": 3,
     "metadata": {},
     "output_type": "execute_result"
    }
   ],
   "source": [
    "df = load_songs(filename=DATA_PATH + 'wasabi_songs.csv', nrows=1000)\n",
    "pd.value_counts(df['explicit_content_lyrics_predicted'])"
   ]
  },
  {
   "cell_type": "code",
   "execution_count": 4,
   "metadata": {},
   "outputs": [
    {
     "name": "stdout",
     "output_type": "stream",
     "text": [
      "Song ID: ObjectId(5714deec25ac0d8aee57cbfc)\n"
     ]
    },
    {
     "data": {
      "image/png": "[encoded data removed]",
      "text/plain": [
       "<Figure size 936x360 with 4 Axes>"
      ]
     },
     "metadata": {
      "needs_background": "light"
     },
     "output_type": "display_data"
    }
   ],
   "source": [
    "### Show segment-wise and line-wise SSMs ###\n",
    "ssm = pd.read_pickle(DATA_PATH + 'wasabi_ssm_line_segment/ssm_wasabi_17.pickle')\n",
    "song_id = random_key_from_dict(ssm, seed=4)\n",
    "song_ssm = ssm[song_id]\n",
    "print('Song ID:', song_id)\n",
    "fig, ax = plt.subplots(1, 2, figsize=(13,5))\n",
    "sns.heatmap(data=song_ssm['segment'], ax=ax[0])\n",
    "sns.heatmap(data=song_ssm['line'], ax=ax[1])\n",
    "plt.show()"
   ]
  },
  {
   "cell_type": "code",
   "execution_count": 5,
   "metadata": {},
   "outputs": [
    {
     "name": "stdout",
     "output_type": "stream",
     "text": [
      "how do i live without you\n",
      "how do i breathe without you\n",
      "if you ever go\n",
      "please tell me baby how can i go on\n"
     ]
    }
   ],
   "source": [
    "### Show a summary ###\n",
    "summaries = pd.read_pickle(DATA_PATH + 'id_to_summary_lines.pickle')\n",
    "song_id = random_key_from_dict(summaries, seed=12)\n",
    "print('\\n'.join(summaries[song_id]))"
   ]
  },
  {
   "cell_type": "code",
   "execution_count": 6,
   "metadata": {},
   "outputs": [
    {
     "name": "stdout",
     "output_type": "stream",
     "text": [
      "Topics: \n",
      "\n",
      "[(13, '0.022*\"get\" + 0.022*\"nigga\" + 0.022*\"fuck\" + 0.021*\"shit\" + 0.017*\"bitch\" + 0.014*\"ain\" + 0.010*\"ass\" + 0.009*\"yo\" + 0.008*\"niggas\" + 0.007*\"hit\"'), (28, '0.361*\"day\" + 0.089*\"new\" + 0.071*\"body\" + 0.050*\"follow\" + 0.049*\"happy\" + 0.042*\"make\" + 0.021*\"count\" + 0.019*\"hour\" + 0.019*\"someday\" + 0.018*\"everyday\"'), (31, '0.401*\"will\" + 0.090*\"die\" + 0.073*\"cry\" + 0.060*\"burn\" + 0.053*\"tear\" + 0.052*\"fire\" + 0.045*\"pain\" + 0.025*\"fear\" + 0.013*\"flame\" + 0.012*\"bleed\"'), (34, '0.091*\"true\" + 0.085*\"blue\" + 0.078*\"year\" + 0.048*\"white\" + 0.040*\"send\" + 0.040*\"everyone\" + 0.034*\"brother\" + 0.028*\"ring\" + 0.024*\"strange\" + 0.019*\"christmas\"'), (38, '0.501*\"not\" + 0.099*\"word\" + 0.038*\"side\" + 0.027*\"afraid\" + 0.025*\"know\" + 0.021*\"belong\" + 0.013*\"anyone\" + 0.011*\"when\" + 0.008*\"ill\" + 0.008*\"try\"'), (29, '0.248*\"life\" + 0.128*\"lose\" + 0.122*\"lie\" + 0.107*\"everything\" + 0.040*\"truth\" + 0.036*\"anything\" + 0.029*\"happen\" + 0.027*\"carry\" + 0.018*\"choose\" + 0.009*\"tell\"'), (42, '0.201*\"again\" + 0.161*\"would\" + 0.110*\"end\" + 0.053*\"once\" + 0.047*\"road\" + 0.044*\"learn\" + 0.033*\"start\" + 0.024*\"ve\" + 0.021*\"see\" + 0.020*\"begin\"'), (9, '0.453*\"come\" + 0.253*\"back\" + 0.164*\"keep\" + 0.035*\"bring\" + 0.010*\"when\" + 0.008*\"track\" + 0.003*\"pressure\" + 0.003*\"take\" + 0.003*\"along\" + 0.003*\"see\"'), (7, '0.243*\"away\" + 0.110*\"light\" + 0.077*\"free\" + 0.075*\"stay\" + 0.067*\"far\" + 0.067*\"fly\" + 0.064*\"sky\" + 0.041*\"set\" + 0.035*\"fade\" + 0.019*\"wing\"'), (15, '0.176*\"night\" + 0.146*\"more\" + 0.123*\"dream\" + 0.061*\"sun\" + 0.053*\"star\" + 0.040*\"no\" + 0.031*\"sleep\" + 0.027*\"moon\" + 0.026*\"dark\" + 0.018*\"shadow\"')]\n",
      "Song ID: ObjectId(5714dee325ac0d8aee50413a) \n",
      "\n"
     ]
    },
    {
     "data": {
      "text/plain": [
       "[(0, 0.03801979),\n",
       " (3, 0.026399245),\n",
       " (4, 0.040274564),\n",
       " (9, 0.010879494),\n",
       " (11, 0.017802268),\n",
       " (12, 0.024566801),\n",
       " (13, 0.012025544),\n",
       " (14, 0.01107724),\n",
       " (15, 0.016291052),\n",
       " (16, 0.016872954),\n",
       " (18, 0.029906582),\n",
       " (19, 0.049983423),\n",
       " (22, 0.036124565),\n",
       " (23, 0.016387876),\n",
       " (24, 0.026229111),\n",
       " (25, 0.038607854),\n",
       " (26, 0.017706536),\n",
       " (29, 0.051364005),\n",
       " (30, 0.022572078),\n",
       " (31, 0.010999284),\n",
       " (34, 0.018136553),\n",
       " (37, 0.02376827),\n",
       " (44, 0.037566032),\n",
       " (48, 0.012045188),\n",
       " (49, 0.066664904),\n",
       " (51, 0.01023145),\n",
       " (53, 0.01655226),\n",
       " (54, 0.011337862),\n",
       " (58, 0.1013274)]"
      ]
     },
     "execution_count": 6,
     "metadata": {},
     "output_type": "execute_result"
    }
   ],
   "source": [
    "### Lookup predicted topics for WASABI songs ###\n",
    "topics = pd.read_pickle(DATA_PATH + 'wasabi_topic_predictions/song_id_to_topics.pickle')\n",
    "topic_model = joblib.load(DATA_PATH + 'wasabi_topic_predictions/lda_model_16.jl')\n",
    "print('Topics:', '\\n')\n",
    "print(topic_model.show_topics())\n",
    "\n",
    "song_id = random_key_from_dict(topics)\n",
    "print('Song ID:', song_id, '\\n')\n",
    "topics[song_id]"
   ]
  },
  {
   "cell_type": "code",
   "execution_count": 7,
   "metadata": {},
   "outputs": [
    {
     "name": "stdout",
     "output_type": "stream",
     "text": [
      "Extracted 142 unigrams: 0.000598907470703125 \t ['so', 'one', 'night', 'i', 'said', 'to', 'kathy', 'we', 'gotta', 'get']\n",
      "Extracted 142 uni/bigrams: 0.006611824035644531 \t []\n",
      "Extracted 79 lemmas: 0.7292101383209229 \t ['so', 'night', 'say', 'get', 'away', 'somehow', 'go', 'somewhere', 'south', 'somewhere', 'warm', 'sake', 'let', 'go', 'now', 'sort', 'of', 'look', 'ask', 'where', 'go', 'so', 'look', 'back', 'hear', 'say', 'don', 'care', 'get', 'go', 'chorus', 'key', 'change', 'other', 'people', 'slepwalk', 'day', 'just', 'sort', 'of', 'fade', 'sight', 'when', 'drive', 'away', 'ev', 'day', 'travel', 'wise', 'learn', 'truth', 'learn', 'lie', 'buy', 'bus', 'sort', 'of', 'old', 'too', 'smart', 'buck', 'get', 'make', 'start', 'hit', 'road', 'south', 'drive', 'old', 'bus', 'old', 'wreck', 'just', 'keep', 'road', 'chorus', 'drive', 'farmer', 'give', 'job', 'work', 'crop', 'night', 'day', 'night', 'sleep', 'dog', 'get', 'pay', 'say', 's', 'time', 'make', 'move', 'again', 'when', 'look', 'eye', 'see', 'more', 'friend', 'chorus', 'now', 'stop', 'travel', 'sell', 'bus', 'make', 'home', 'sure', 'ain', 'settle', 'now', 'first', 'kid', 'way', 'old', 'bus', 'real', 'good', 'away']\n",
      "\n",
      " [(0, 0.012600278), (1, 0.02448791), (2, 0.042381912), (6, 0.041891705), (7, 0.033807065), (9, 0.039769515), (10, 0.016728742), (11, 0.026862102), (12, 0.018821876), (14, 0.025938138), (15, 0.016967986), (16, 0.011919231), (17, 0.0152748935), (23, 0.029790126), (25, 0.010650236), (26, 0.0205598), (28, 0.018993724), (29, 0.011936514), (30, 0.03367518), (32, 0.022682257), (33, 0.010316835), (35, 0.01222921), (36, 0.023200884), (37, 0.025347976), (38, 0.012744029), (40, 0.010116814), (41, 0.034302678), (43, 0.019403959), (44, 0.011770166), (45, 0.017203955), (46, 0.021361876), (48, 0.012133316), (49, 0.021329336), (50, 0.05686414), (51, 0.023519363), (52, 0.011889652), (56, 0.015482088), (57, 0.014108585), (58, 0.031700857)]\n"
     ]
    }
   ],
   "source": [
    "### Compute topic distribution for unseen texts ###\n",
    "topic_model = joblib.load(DATA_PATH + 'wasabi_topic_predictions/lda_model_16.jl')\n",
    "dictionary = pd.read_pickle(DATA_PATH + 'song_id_to_topics/dictionary.pickle')\n",
    "corpus = [\"So one night I said to Kathy We gotta get away somehow Go somewhere south and somewhere warm But for God's sake let's go now. And Kathy she sort of looks at me And asks where I wanna go So I look back and I hear me say I don't care but we gotta go chorus and key change And all the other people Who slepwalk thru their days Just sort of faded out of sight When we two drove away And ev'ry day we travelled We were lookin' to get wise And we learned what was the truth And we learned what were the lies And in LA we bought a bus Sort of old and not too smart So for six hundred and fifty bucks We got out and made a start We hit the road down to the South And drove into Mexico That old bus was some old wreck But it just kept us on the road. chorus etc We drove up to Alabam And a farmer gave us some jobs We worked them crops all night and day And at night we slept like dogs We got paid and Kathy said to me It's time to make a move again And when I looked into her eyes I saw more than a friend. chorus etc And now we've stopped our travels And we sold the bus in Texas And we made our home in Austin And for sure it ain't no palace And Kathy and me we settled down And now our first kid's on the way Kathy and me and that old bus We did real good to get away.\"]\n",
    "corpus = preprocessing.complex_preprocess(corpus)\n",
    "dictionary = Dictionary(corpus)\n",
    "# dictionary.filter_extremes()\n",
    "corpus_bow = [dictionary.doc2bow(text) for text in corpus]\n",
    "for text in corpus_bow:\n",
    "    print('\\n', topic_model[text])"
   ]
  },
  {
   "cell_type": "code",
   "execution_count": 8,
   "metadata": {},
   "outputs": [],
   "source": [
    "# TODO: show explicitness"
   ]
  }
 ],
 "metadata": {
  "kernelspec": {
   "display_name": "Python 3",
   "language": "python",
   "name": "python3"
  },
  "language_info": {
   "codemirror_mode": {
    "name": "ipython",
    "version": 3
   },
   "file_extension": ".py",
   "mimetype": "text/x-python",
   "name": "python",
   "nbconvert_exporter": "python",
   "pygments_lexer": "ipython3",
   "version": "3.6.2"
  }
 },
 "nbformat": 4,
 "nbformat_minor": 2
}
